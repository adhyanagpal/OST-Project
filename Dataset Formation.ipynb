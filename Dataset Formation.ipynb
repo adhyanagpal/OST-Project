{
 "cells": [
  {
   "cell_type": "code",
   "execution_count": 1,
   "metadata": {},
   "outputs": [],
   "source": [
    "import cv2\n",
    "import pytesseract\n",
    "from PIL import Image, ImageDraw, ImageFont\n",
    "import matplotlib.pyplot as plt\n",
    "import numpy as np\n",
    "import pandas as pd"
   ]
  },
  {
   "cell_type": "code",
   "execution_count": 2,
   "metadata": {},
   "outputs": [],
   "source": [
    "pytesseract.pytesseract.tesseract_cmd = r'C:\\Program Files\\Tesseract-OCR\\tesseract.exe'"
   ]
  },
  {
   "cell_type": "code",
   "execution_count": 3,
   "metadata": {},
   "outputs": [],
   "source": [
    "def remove_items(test_list, item): \n",
    "    res = [i for i in test_list if i != item] \n",
    "    return res"
   ]
  },
  {
   "cell_type": "code",
   "execution_count": 4,
   "metadata": {},
   "outputs": [],
   "source": [
    "def get_text(img_path):\n",
    "    im = cv2.imread(img_path)\n",
    "    config = ('-l eng --oem 1 --psm 3')\n",
    "    text = pytesseract.image_to_string(im, config=config)\n",
    "    text = text.split('\\n')\n",
    "    text=remove_items(text,'\\x0c')\n",
    "    text=remove_items(text,'')\n",
    "    text=remove_items(text,' ')\n",
    "    text_img=\"\"\n",
    "    for i in text:\n",
    "        text_img=text_img+i+\" \"\n",
    "    text_im2=\"\"\n",
    "    for i in range(len(text_img)):\n",
    "        text_im2=text_im2+text_img[i]+' '\n",
    "    return text_im2"
   ]
  },
  {
   "cell_type": "code",
   "execution_count": 15,
   "metadata": {},
   "outputs": [],
   "source": [
    "def generate_img(text,img_width=256,img_height=35,img_color='white'):\n",
    "    img_size=(img_width,img_height)\n",
    "    img = Image.new('RGB', img_size, color = img_color)\n",
    "    d = ImageDraw.Draw(img)\n",
    "    font = ImageFont.truetype('arial.ttf', 15) \n",
    "    d.text((10,10), text, font = font,fill=(0,0,0))\n",
    "    #img = np.array(img)\n",
    "    #kernel = np.array([[-1,-1,-1], [-1,9,-1], [-1,-1,-1]])\n",
    "    #img = cv2.filter2D(img, -1, kernel)\n",
    "    return img"
   ]
  },
  {
   "cell_type": "code",
   "execution_count": 6,
   "metadata": {},
   "outputs": [],
   "source": [
    "train = pd.read_csv(\"written_name_train_v2.csv\")\n",
    "train.dropna(axis=0, inplace=True)\n",
    "train = train[train['IDENTITY'] != 'UNREADABLE']\n",
    "train['IDENTITY'] = train['IDENTITY'].str.upper()\n",
    "train.reset_index(inplace = True, drop=True)"
   ]
  },
  {
   "cell_type": "code",
   "execution_count": 7,
   "metadata": {},
   "outputs": [],
   "source": [
    "train_size=10000"
   ]
  },
  {
   "cell_type": "code",
   "execution_count": 16,
   "metadata": {},
   "outputs": [
    {
     "name": "stdout",
     "output_type": "stream",
     "text": [
      "0\n",
      "1000\n",
      "2000\n",
      "3000\n",
      "4000\n",
      "5000\n",
      "6000\n",
      "7000\n",
      "8000\n",
      "9000\n"
     ]
    }
   ],
   "source": [
    "im_main=\"train_v2/train/\"\n",
    "for i in range(train_size):\n",
    "    img_path=im_main+train.loc[i,'FILENAME']\n",
    "    text=get_text(img_path)\n",
    "    img=generate_img(text)\n",
    "    outputfile_name='output/'+train.loc[i,'FILENAME'][:-4]+'_OUTPUT.jpg'\n",
    "    img.save(outputfile_name)\n",
    "    if i%1000==0:\n",
    "        print(i)"
   ]
  },
  {
   "cell_type": "code",
   "execution_count": 12,
   "metadata": {},
   "outputs": [],
   "source": [
    "import glob\n",
    "import shutil\n",
    "import os"
   ]
  },
  {
   "cell_type": "code",
   "execution_count": 13,
   "metadata": {},
   "outputs": [],
   "source": [
    "dst='input'"
   ]
  },
  {
   "cell_type": "code",
   "execution_count": 14,
   "metadata": {},
   "outputs": [
    {
     "name": "stdout",
     "output_type": "stream",
     "text": [
      "0\n",
      "1000\n",
      "2000\n",
      "3000\n",
      "4000\n",
      "5000\n",
      "6000\n",
      "7000\n",
      "8000\n",
      "9000\n"
     ]
    }
   ],
   "source": [
    "im_main=\"train_v2/train/\"\n",
    "for i in range(train_size):\n",
    "    img_path=im_main+train.loc[i,'FILENAME']\n",
    "    shutil.copy(img_path, dst)\n",
    "    if i%1000==0:\n",
    "        print(i)\n",
    "    "
   ]
  },
  {
   "cell_type": "code",
   "execution_count": null,
   "metadata": {},
   "outputs": [],
   "source": []
  }
 ],
 "metadata": {
  "kernelspec": {
   "display_name": "Python 3",
   "language": "python",
   "name": "python3"
  },
  "language_info": {
   "codemirror_mode": {
    "name": "ipython",
    "version": 3
   },
   "file_extension": ".py",
   "mimetype": "text/x-python",
   "name": "python",
   "nbconvert_exporter": "python",
   "pygments_lexer": "ipython3",
   "version": "3.7.4"
  }
 },
 "nbformat": 4,
 "nbformat_minor": 2
}
