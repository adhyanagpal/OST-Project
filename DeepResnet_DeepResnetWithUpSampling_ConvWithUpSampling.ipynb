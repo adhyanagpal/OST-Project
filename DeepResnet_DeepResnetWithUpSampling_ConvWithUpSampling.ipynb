{
 "cells": [
  {
   "cell_type": "code",
   "execution_count": 1,
   "metadata": {
    "_cell_guid": "b1076dfc-b9ad-4769-8c92-a6c4dae69d19",
    "_uuid": "8f2839f25d086af736a60e9eeb907d3b93b6e0e5"
   },
   "outputs": [],
   "source": [
    "import numpy as np\n",
    "import pandas as pd\n",
    "import os"
   ]
  },
  {
   "cell_type": "code",
   "execution_count": 2,
   "metadata": {},
   "outputs": [],
   "source": [
    "import cv2\n",
    "import random\n",
    "import numpy as np\n",
    "import pandas as pd\n",
    "import matplotlib.pyplot as plt\n",
    "import tensorflow as tf\n",
    "from keras import backend as K\n",
    "from keras.models import Model\n",
    "from keras.layers import Input, Conv2D,Conv2DTranspose, MaxPooling2D,Dropout,concatenate,ZeroPadding2D\n",
    "from keras.optimizers import Adam,SGD\n",
    "from keras.utils import plot_model\n",
    "import glob"
   ]
  },
  {
   "cell_type": "code",
   "execution_count": 3,
   "metadata": {},
   "outputs": [],
   "source": [
    "base_dir = \"../input/handwriting-reconstruction/v6/\""
   ]
  },
  {
   "cell_type": "code",
   "execution_count": 4,
   "metadata": {},
   "outputs": [],
   "source": [
    "def process_image(image):\n",
    "    return image/255"
   ]
  },
  {
   "cell_type": "code",
   "execution_count": 5,
   "metadata": {},
   "outputs": [],
   "source": [
    "filenames = glob.glob(\"../input/handwriting-reconstruction/v6/input/*.jpg\")\n",
    "filenames.sort()\n",
    "input_img = [cv2.imread(img) for img in filenames]"
   ]
  },
  {
   "cell_type": "code",
   "execution_count": 6,
   "metadata": {},
   "outputs": [],
   "source": [
    "filenames = glob.glob(\"../input/handwriting-reconstruction/v6/output/*.jpg\")\n",
    "filenames.sort()\n",
    "output_img = [cv2.imread(img) for img in filenames]"
   ]
  },
  {
   "cell_type": "code",
   "execution_count": 7,
   "metadata": {},
   "outputs": [],
   "source": [
    "ip_images=[]\n",
    "op_images=[]"
   ]
  },
  {
   "cell_type": "code",
   "execution_count": 8,
   "metadata": {},
   "outputs": [],
   "source": [
    "for img in input_img:\n",
    "    img=process_image(img)\n",
    "    img=cv2.resize(img,(256,64))\n",
    "    ip_images.append(img)"
   ]
  },
  {
   "cell_type": "code",
   "execution_count": 9,
   "metadata": {},
   "outputs": [],
   "source": [
    "for img in output_img:\n",
    "    img=process_image(img)\n",
    "    img=cv2.resize(img,(256,32))\n",
    "    op_images.append(img)"
   ]
  },
  {
   "cell_type": "code",
   "execution_count": 10,
   "metadata": {},
   "outputs": [],
   "source": [
    "ip_images=np.asarray(ip_images)\n"
   ]
  },
  {
   "cell_type": "code",
   "execution_count": 11,
   "metadata": {},
   "outputs": [],
   "source": [
    "op_images=np.asarray(op_images)"
   ]
  },
  {
   "cell_type": "code",
   "execution_count": 35,
   "metadata": {},
   "outputs": [
    {
     "data": {
      "text/plain": [
       "(10000, 64, 256, 3)"
      ]
     },
     "execution_count": 35,
     "metadata": {},
     "output_type": "execute_result"
    }
   ],
   "source": [
    "ip_images.shape"
   ]
  },
  {
   "cell_type": "code",
   "execution_count": 13,
   "metadata": {},
   "outputs": [
    {
     "data": {
      "text/plain": [
       "<matplotlib.image.AxesImage at 0x7f75498b1f10>"
      ]
     },
     "execution_count": 13,
     "metadata": {},
     "output_type": "execute_result"
    },
    {
     "data": {
      "image/png": "[encoded data removed]",
      "text/plain": [
       "<Figure size 432x288 with 1 Axes>"
      ]
     },
     "metadata": {
      "needs_background": "light"
     },
     "output_type": "display_data"
    }
   ],
   "source": [
    "plt.imshow(ip_images[0])"
   ]
  },
  {
   "cell_type": "code",
   "execution_count": 14,
   "metadata": {},
   "outputs": [
    {
     "data": {
      "text/plain": [
       "<matplotlib.image.AxesImage at 0x7f7549a9b6d0>"
      ]
     },
     "execution_count": 14,
     "metadata": {},
     "output_type": "execute_result"
    },
    {
     "data": {
      "image/png": "[encoded data removed]",
      "text/plain": [
       "<Figure size 432x288 with 1 Axes>"
      ]
     },
     "metadata": {
      "needs_background": "light"
     },
     "output_type": "display_data"
    }
   ],
   "source": [
    "plt.imshow(op_images[0])"
   ]
  },
  {
   "cell_type": "code",
   "execution_count": 15,
   "metadata": {},
   "outputs": [],
   "source": [
    "from sklearn.model_selection import train_test_split"
   ]
  },
  {
   "cell_type": "code",
   "execution_count": 43,
   "metadata": {},
   "outputs": [],
   "source": [
    "train_x=ip_images[:2000]\n",
    "test_x=ip_images[3000:3200]\n",
    "train_y=op_images[:2000]\n",
    "test_y=op_images[3000:3200]"
   ]
  },
  {
   "cell_type": "code",
   "execution_count": 17,
   "metadata": {},
   "outputs": [],
   "source": [
    "def res(prev_layer):\n",
    "    l1=Conv2D(64,(3,3),activation='relu')(prev_layer)\n",
    "    l2=Conv2D(64,(3,3),activation='relu',padding='same')(l1)\n",
    "    l3=Conv2D(64,(3,3),activation='relu',padding='same')(l2)\n",
    "    l4=concatenate([l1,l3])\n",
    "    l4=ZeroPadding2D(padding=(1, 1))(l4)\n",
    "    l5=Conv2D(64,(3,3),activation='relu',padding='same')(l4)\n",
    "    l6=concatenate([prev_layer,l5])\n",
    "    l6=ZeroPadding2D(padding=(1, 1))(l6)\n",
    "    \n",
    "    return l6"
   ]
  },
  {
   "cell_type": "code",
   "execution_count": 18,
   "metadata": {},
   "outputs": [
    {
     "name": "stdout",
     "output_type": "stream",
     "text": [
      "Model: \"model\"\n",
      "__________________________________________________________________________________________________\n",
      "Layer (type)                    Output Shape         Param #     Connected to                     \n",
      "==================================================================================================\n",
      "input_1 (InputLayer)            [(None, 64, 256, 3)] 0                                            \n",
      "__________________________________________________________________________________________________\n",
      "conv2d (Conv2D)                 (None, 64, 256, 64)  1792        input_1[0][0]                    \n",
      "__________________________________________________________________________________________________\n",
      "conv2d_1 (Conv2D)               (None, 62, 254, 64)  36928       conv2d[0][0]                     \n",
      "__________________________________________________________________________________________________\n",
      "conv2d_2 (Conv2D)               (None, 62, 254, 64)  36928       conv2d_1[0][0]                   \n",
      "__________________________________________________________________________________________________\n",
      "conv2d_3 (Conv2D)               (None, 62, 254, 64)  36928       conv2d_2[0][0]                   \n",
      "__________________________________________________________________________________________________\n",
      "concatenate (Concatenate)       (None, 62, 254, 128) 0           conv2d_1[0][0]                   \n",
      "                                                                 conv2d_3[0][0]                   \n",
      "__________________________________________________________________________________________________\n",
      "zero_padding2d (ZeroPadding2D)  (None, 64, 256, 128) 0           concatenate[0][0]                \n",
      "__________________________________________________________________________________________________\n",
      "conv2d_4 (Conv2D)               (None, 64, 256, 64)  73792       zero_padding2d[0][0]             \n",
      "__________________________________________________________________________________________________\n",
      "concatenate_1 (Concatenate)     (None, 64, 256, 128) 0           conv2d[0][0]                     \n",
      "                                                                 conv2d_4[0][0]                   \n",
      "__________________________________________________________________________________________________\n",
      "zero_padding2d_1 (ZeroPadding2D (None, 66, 258, 128) 0           concatenate_1[0][0]              \n",
      "__________________________________________________________________________________________________\n",
      "conv2d_5 (Conv2D)               (None, 64, 256, 64)  73792       zero_padding2d_1[0][0]           \n",
      "__________________________________________________________________________________________________\n",
      "conv2d_6 (Conv2D)               (None, 64, 256, 64)  36928       conv2d_5[0][0]                   \n",
      "__________________________________________________________________________________________________\n",
      "conv2d_7 (Conv2D)               (None, 64, 256, 64)  36928       conv2d_6[0][0]                   \n",
      "__________________________________________________________________________________________________\n",
      "concatenate_2 (Concatenate)     (None, 64, 256, 128) 0           conv2d_5[0][0]                   \n",
      "                                                                 conv2d_7[0][0]                   \n",
      "__________________________________________________________________________________________________\n",
      "zero_padding2d_2 (ZeroPadding2D (None, 66, 258, 128) 0           concatenate_2[0][0]              \n",
      "__________________________________________________________________________________________________\n",
      "conv2d_8 (Conv2D)               (None, 66, 258, 64)  73792       zero_padding2d_2[0][0]           \n",
      "__________________________________________________________________________________________________\n",
      "concatenate_3 (Concatenate)     (None, 66, 258, 192) 0           zero_padding2d_1[0][0]           \n",
      "                                                                 conv2d_8[0][0]                   \n",
      "__________________________________________________________________________________________________\n",
      "zero_padding2d_3 (ZeroPadding2D (None, 68, 260, 192) 0           concatenate_3[0][0]              \n",
      "__________________________________________________________________________________________________\n",
      "conv2d_9 (Conv2D)               (None, 66, 258, 64)  110656      zero_padding2d_3[0][0]           \n",
      "__________________________________________________________________________________________________\n",
      "conv2d_10 (Conv2D)              (None, 66, 258, 64)  36928       conv2d_9[0][0]                   \n",
      "__________________________________________________________________________________________________\n",
      "conv2d_11 (Conv2D)              (None, 66, 258, 64)  36928       conv2d_10[0][0]                  \n",
      "__________________________________________________________________________________________________\n",
      "concatenate_4 (Concatenate)     (None, 66, 258, 128) 0           conv2d_9[0][0]                   \n",
      "                                                                 conv2d_11[0][0]                  \n",
      "__________________________________________________________________________________________________\n",
      "zero_padding2d_4 (ZeroPadding2D (None, 68, 260, 128) 0           concatenate_4[0][0]              \n",
      "__________________________________________________________________________________________________\n",
      "conv2d_12 (Conv2D)              (None, 68, 260, 64)  73792       zero_padding2d_4[0][0]           \n",
      "__________________________________________________________________________________________________\n",
      "concatenate_5 (Concatenate)     (None, 68, 260, 256) 0           zero_padding2d_3[0][0]           \n",
      "                                                                 conv2d_12[0][0]                  \n",
      "__________________________________________________________________________________________________\n",
      "zero_padding2d_5 (ZeroPadding2D (None, 70, 262, 256) 0           concatenate_5[0][0]              \n",
      "__________________________________________________________________________________________________\n",
      "conv2d_13 (Conv2D)              (None, 68, 260, 64)  147520      zero_padding2d_5[0][0]           \n",
      "__________________________________________________________________________________________________\n",
      "conv2d_14 (Conv2D)              (None, 68, 260, 64)  36928       conv2d_13[0][0]                  \n",
      "__________________________________________________________________________________________________\n",
      "conv2d_15 (Conv2D)              (None, 68, 260, 64)  36928       conv2d_14[0][0]                  \n",
      "__________________________________________________________________________________________________\n",
      "concatenate_6 (Concatenate)     (None, 68, 260, 128) 0           conv2d_13[0][0]                  \n",
      "                                                                 conv2d_15[0][0]                  \n",
      "__________________________________________________________________________________________________\n",
      "zero_padding2d_6 (ZeroPadding2D (None, 70, 262, 128) 0           concatenate_6[0][0]              \n",
      "__________________________________________________________________________________________________\n",
      "conv2d_16 (Conv2D)              (None, 70, 262, 64)  73792       zero_padding2d_6[0][0]           \n",
      "__________________________________________________________________________________________________\n",
      "concatenate_7 (Concatenate)     (None, 70, 262, 320) 0           zero_padding2d_5[0][0]           \n",
      "                                                                 conv2d_16[0][0]                  \n",
      "__________________________________________________________________________________________________\n",
      "zero_padding2d_7 (ZeroPadding2D (None, 72, 264, 320) 0           concatenate_7[0][0]              \n",
      "__________________________________________________________________________________________________\n",
      "conv2d_17 (Conv2D)              (None, 70, 262, 64)  184384      zero_padding2d_7[0][0]           \n",
      "__________________________________________________________________________________________________\n",
      "conv2d_18 (Conv2D)              (None, 70, 262, 64)  36928       conv2d_17[0][0]                  \n",
      "__________________________________________________________________________________________________\n",
      "conv2d_19 (Conv2D)              (None, 70, 262, 64)  36928       conv2d_18[0][0]                  \n",
      "__________________________________________________________________________________________________\n",
      "concatenate_8 (Concatenate)     (None, 70, 262, 128) 0           conv2d_17[0][0]                  \n",
      "                                                                 conv2d_19[0][0]                  \n",
      "__________________________________________________________________________________________________\n",
      "zero_padding2d_8 (ZeroPadding2D (None, 72, 264, 128) 0           concatenate_8[0][0]              \n",
      "__________________________________________________________________________________________________\n",
      "conv2d_20 (Conv2D)              (None, 72, 264, 64)  73792       zero_padding2d_8[0][0]           \n",
      "__________________________________________________________________________________________________\n",
      "concatenate_9 (Concatenate)     (None, 72, 264, 384) 0           zero_padding2d_7[0][0]           \n",
      "                                                                 conv2d_20[0][0]                  \n",
      "__________________________________________________________________________________________________\n",
      "zero_padding2d_9 (ZeroPadding2D (None, 74, 266, 384) 0           concatenate_9[0][0]              \n",
      "__________________________________________________________________________________________________\n",
      "conv2d_21 (Conv2D)              (None, 72, 264, 64)  221248      zero_padding2d_9[0][0]           \n",
      "__________________________________________________________________________________________________\n",
      "conv2d_22 (Conv2D)              (None, 72, 264, 64)  36928       conv2d_21[0][0]                  \n",
      "__________________________________________________________________________________________________\n",
      "conv2d_23 (Conv2D)              (None, 72, 264, 64)  36928       conv2d_22[0][0]                  \n",
      "__________________________________________________________________________________________________\n",
      "concatenate_10 (Concatenate)    (None, 72, 264, 128) 0           conv2d_21[0][0]                  \n",
      "                                                                 conv2d_23[0][0]                  \n",
      "__________________________________________________________________________________________________\n",
      "zero_padding2d_10 (ZeroPadding2 (None, 74, 266, 128) 0           concatenate_10[0][0]             \n",
      "__________________________________________________________________________________________________\n",
      "conv2d_24 (Conv2D)              (None, 74, 266, 64)  73792       zero_padding2d_10[0][0]          \n",
      "__________________________________________________________________________________________________\n",
      "concatenate_11 (Concatenate)    (None, 74, 266, 448) 0           zero_padding2d_9[0][0]           \n",
      "                                                                 conv2d_24[0][0]                  \n",
      "__________________________________________________________________________________________________\n",
      "zero_padding2d_11 (ZeroPadding2 (None, 76, 268, 448) 0           concatenate_11[0][0]             \n",
      "__________________________________________________________________________________________________\n",
      "conv2d_25 (Conv2D)              (None, 74, 266, 64)  258112      zero_padding2d_11[0][0]          \n",
      "__________________________________________________________________________________________________\n",
      "conv2d_26 (Conv2D)              (None, 74, 266, 64)  36928       conv2d_25[0][0]                  \n",
      "__________________________________________________________________________________________________\n",
      "conv2d_27 (Conv2D)              (None, 74, 266, 64)  36928       conv2d_26[0][0]                  \n",
      "__________________________________________________________________________________________________\n",
      "concatenate_12 (Concatenate)    (None, 74, 266, 128) 0           conv2d_25[0][0]                  \n",
      "                                                                 conv2d_27[0][0]                  \n",
      "__________________________________________________________________________________________________\n",
      "zero_padding2d_12 (ZeroPadding2 (None, 76, 268, 128) 0           concatenate_12[0][0]             \n",
      "__________________________________________________________________________________________________\n",
      "conv2d_28 (Conv2D)              (None, 76, 268, 64)  73792       zero_padding2d_12[0][0]          \n",
      "__________________________________________________________________________________________________\n",
      "concatenate_13 (Concatenate)    (None, 76, 268, 512) 0           zero_padding2d_11[0][0]          \n",
      "                                                                 conv2d_28[0][0]                  \n",
      "__________________________________________________________________________________________________\n",
      "zero_padding2d_13 (ZeroPadding2 (None, 78, 270, 512) 0           concatenate_13[0][0]             \n",
      "__________________________________________________________________________________________________\n",
      "conv2d_29 (Conv2D)              (None, 76, 268, 64)  294976      zero_padding2d_13[0][0]          \n",
      "__________________________________________________________________________________________________\n",
      "conv2d_30 (Conv2D)              (None, 76, 268, 64)  36928       conv2d_29[0][0]                  \n",
      "__________________________________________________________________________________________________\n",
      "conv2d_31 (Conv2D)              (None, 76, 268, 64)  36928       conv2d_30[0][0]                  \n",
      "__________________________________________________________________________________________________\n",
      "concatenate_14 (Concatenate)    (None, 76, 268, 128) 0           conv2d_29[0][0]                  \n",
      "                                                                 conv2d_31[0][0]                  \n",
      "__________________________________________________________________________________________________\n",
      "zero_padding2d_14 (ZeroPadding2 (None, 78, 270, 128) 0           concatenate_14[0][0]             \n",
      "__________________________________________________________________________________________________\n",
      "conv2d_32 (Conv2D)              (None, 78, 270, 64)  73792       zero_padding2d_14[0][0]          \n",
      "__________________________________________________________________________________________________\n",
      "concatenate_15 (Concatenate)    (None, 78, 270, 576) 0           zero_padding2d_13[0][0]          \n",
      "                                                                 conv2d_32[0][0]                  \n",
      "__________________________________________________________________________________________________\n",
      "zero_padding2d_15 (ZeroPadding2 (None, 80, 272, 576) 0           concatenate_15[0][0]             \n",
      "__________________________________________________________________________________________________\n",
      "conv2d_33 (Conv2D)              (None, 78, 270, 64)  331840      zero_padding2d_15[0][0]          \n",
      "__________________________________________________________________________________________________\n",
      "conv2d_34 (Conv2D)              (None, 78, 270, 64)  36928       conv2d_33[0][0]                  \n",
      "__________________________________________________________________________________________________\n",
      "conv2d_35 (Conv2D)              (None, 78, 270, 64)  36928       conv2d_34[0][0]                  \n",
      "__________________________________________________________________________________________________\n",
      "concatenate_16 (Concatenate)    (None, 78, 270, 128) 0           conv2d_33[0][0]                  \n",
      "                                                                 conv2d_35[0][0]                  \n",
      "__________________________________________________________________________________________________\n",
      "zero_padding2d_16 (ZeroPadding2 (None, 80, 272, 128) 0           concatenate_16[0][0]             \n",
      "__________________________________________________________________________________________________\n",
      "conv2d_36 (Conv2D)              (None, 80, 272, 64)  73792       zero_padding2d_16[0][0]          \n",
      "__________________________________________________________________________________________________\n",
      "concatenate_17 (Concatenate)    (None, 80, 272, 640) 0           zero_padding2d_15[0][0]          \n",
      "                                                                 conv2d_36[0][0]                  \n",
      "__________________________________________________________________________________________________\n",
      "zero_padding2d_17 (ZeroPadding2 (None, 82, 274, 640) 0           concatenate_17[0][0]             \n",
      "__________________________________________________________________________________________________\n",
      "conv2d_37 (Conv2D)              (None, 80, 272, 64)  368704      zero_padding2d_17[0][0]          \n",
      "__________________________________________________________________________________________________\n",
      "conv2d_38 (Conv2D)              (None, 80, 272, 64)  36928       conv2d_37[0][0]                  \n",
      "__________________________________________________________________________________________________\n",
      "conv2d_39 (Conv2D)              (None, 80, 272, 64)  36928       conv2d_38[0][0]                  \n",
      "__________________________________________________________________________________________________\n",
      "concatenate_18 (Concatenate)    (None, 80, 272, 128) 0           conv2d_37[0][0]                  \n",
      "                                                                 conv2d_39[0][0]                  \n",
      "__________________________________________________________________________________________________\n",
      "zero_padding2d_18 (ZeroPadding2 (None, 82, 274, 128) 0           concatenate_18[0][0]             \n",
      "__________________________________________________________________________________________________\n",
      "conv2d_40 (Conv2D)              (None, 82, 274, 64)  73792       zero_padding2d_18[0][0]          \n",
      "__________________________________________________________________________________________________\n",
      "concatenate_19 (Concatenate)    (None, 82, 274, 704) 0           zero_padding2d_17[0][0]          \n",
      "                                                                 conv2d_40[0][0]                  \n",
      "__________________________________________________________________________________________________\n",
      "zero_padding2d_19 (ZeroPadding2 (None, 84, 276, 704) 0           concatenate_19[0][0]             \n",
      "__________________________________________________________________________________________________\n",
      "conv2d_41 (Conv2D)              (None, 82, 274, 64)  405568      zero_padding2d_19[0][0]          \n",
      "__________________________________________________________________________________________________\n",
      "conv2d_42 (Conv2D)              (None, 82, 274, 64)  36928       conv2d_41[0][0]                  \n",
      "__________________________________________________________________________________________________\n",
      "conv2d_43 (Conv2D)              (None, 82, 274, 64)  36928       conv2d_42[0][0]                  \n",
      "__________________________________________________________________________________________________\n",
      "concatenate_20 (Concatenate)    (None, 82, 274, 128) 0           conv2d_41[0][0]                  \n",
      "                                                                 conv2d_43[0][0]                  \n",
      "__________________________________________________________________________________________________\n",
      "zero_padding2d_20 (ZeroPadding2 (None, 84, 276, 128) 0           concatenate_20[0][0]             \n",
      "__________________________________________________________________________________________________\n",
      "conv2d_44 (Conv2D)              (None, 84, 276, 64)  73792       zero_padding2d_20[0][0]          \n",
      "__________________________________________________________________________________________________\n",
      "concatenate_21 (Concatenate)    (None, 84, 276, 768) 0           zero_padding2d_19[0][0]          \n",
      "                                                                 conv2d_44[0][0]                  \n",
      "__________________________________________________________________________________________________\n",
      "zero_padding2d_21 (ZeroPadding2 (None, 86, 278, 768) 0           concatenate_21[0][0]             \n",
      "__________________________________________________________________________________________________\n",
      "conv2d_45 (Conv2D)              (None, 84, 276, 3)   20739       zero_padding2d_21[0][0]          \n",
      "__________________________________________________________________________________________________\n",
      "conv2d_46 (Conv2D)              (None, 82, 274, 3)   84          conv2d_45[0][0]                  \n",
      "__________________________________________________________________________________________________\n",
      "conv2d_47 (Conv2D)              (None, 80, 272, 3)   84          conv2d_46[0][0]                  \n",
      "__________________________________________________________________________________________________\n",
      "conv2d_48 (Conv2D)              (None, 78, 270, 3)   84          conv2d_47[0][0]                  \n",
      "__________________________________________________________________________________________________\n",
      "conv2d_49 (Conv2D)              (None, 76, 268, 3)   84          conv2d_48[0][0]                  \n",
      "__________________________________________________________________________________________________\n",
      "conv2d_50 (Conv2D)              (None, 74, 266, 3)   84          conv2d_49[0][0]                  \n",
      "__________________________________________________________________________________________________\n",
      "conv2d_51 (Conv2D)              (None, 72, 264, 3)   84          conv2d_50[0][0]                  \n",
      "__________________________________________________________________________________________________\n",
      "conv2d_52 (Conv2D)              (None, 70, 262, 3)   84          conv2d_51[0][0]                  \n",
      "__________________________________________________________________________________________________\n",
      "conv2d_53 (Conv2D)              (None, 68, 260, 3)   84          conv2d_52[0][0]                  \n",
      "__________________________________________________________________________________________________\n",
      "conv2d_54 (Conv2D)              (None, 66, 258, 3)   84          conv2d_53[0][0]                  \n",
      "__________________________________________________________________________________________________\n",
      "conv2d_55 (Conv2D)              (None, 64, 256, 3)   84          conv2d_54[0][0]                  \n",
      "__________________________________________________________________________________________________\n",
      "max_pooling2d (MaxPooling2D)    (None, 32, 256, 3)   0           conv2d_55[0][0]                  \n",
      "==================================================================================================\n",
      "Total params: 4,081,227\n",
      "Trainable params: 4,081,227\n",
      "Non-trainable params: 0\n",
      "__________________________________________________________________________________________________\n"
     ]
    }
   ],
   "source": [
    "inp=Input(shape=(64,256,3))\n",
    "l1=Conv2D(64,(3,3),activation='relu',padding='same')(inp)\n",
    "l2=res(l1)\n",
    "l2=res(l2)\n",
    "l3=res(l2)\n",
    "l3=res(l3)\n",
    "l8=res(l3)\n",
    "l8=res(l8)\n",
    "l9=res(l8)\n",
    "l9=res(l9)\n",
    "l10=res(l9)\n",
    "l11=res(l10)\n",
    "l12=res(l11)\n",
    "out=Conv2D(3,(3,3),activation='relu')(l12)\n",
    "out=Conv2D(3,(3,3),activation='relu')(out)\n",
    "out=Conv2D(3,(3,3),activation='relu')(out)\n",
    "out=Conv2D(3,(3,3),activation='relu')(out)\n",
    "out=Conv2D(3,(3,3),activation='relu')(out)\n",
    "out=Conv2D(3,(3,3),activation='relu')(out)\n",
    "out=Conv2D(3,(3,3),activation='relu')(out)\n",
    "out=Conv2D(3,(3,3),activation='relu')(out)\n",
    "out=Conv2D(3,(3,3),activation='relu')(out)\n",
    "out=Conv2D(3,(3,3),activation='relu')(out)\n",
    "out=Conv2D(3,(3,3),activation='relu')(out)\n",
    "out=MaxPooling2D(pool_size=(2,1))(out)\n",
    "model=Model(inputs=[inp],outputs=out)\n",
    "model.summary()\n"
   ]
  },
  {
   "cell_type": "code",
   "execution_count": 19,
   "metadata": {},
   "outputs": [],
   "source": [
    "import math\n",
    "from keras import backend as K\n",
    "def ssim(original_image, generated_image):\n",
    "    \n",
    "    original_image = tf.convert_to_tensor(original_image, dtype = tf.float32)\n",
    "    generated_image = tf.convert_to_tensor(generated_image, dtype = tf.float32)\n",
    "    \n",
    "    ssim = tf.image.ssim(original_image, generated_image, max_val = 1.0, filter_size = 11, filter_sigma = 1.5, k1 = 0.01, )\n",
    "    \n",
    "    return tf.math.reduce_mean(ssim, axis = None, keepdims = False, name = None)\n",
    "\n",
    "def PSNR(y_true, y_pred):\n",
    "    max_pixel = 1.0\n",
    "    return (10.0 * K.log((max_pixel ** 2) / (K.mean(K.square(y_pred - y_true), axis=-1)))) / 2.303\n",
    "model.compile(optimizer='adam', loss='mean_squared_error', metrics=[PSNR,ssim])"
   ]
  },
  {
   "cell_type": "code",
   "execution_count": 20,
   "metadata": {},
   "outputs": [
    {
     "name": "stdout",
     "output_type": "stream",
     "text": [
      "Epoch 1/15\n",
      "1000/1000 [==============================] - 142s 132ms/step - loss: 0.2949 - PSNR: inf - ssim: 0.4269\n",
      "Epoch 2/15\n",
      "1000/1000 [==============================] - 132s 132ms/step - loss: 0.0200 - PSNR: 30.7066 - ssim: 0.6234\n",
      "Epoch 3/15\n",
      "1000/1000 [==============================] - 132s 132ms/step - loss: 0.0179 - PSNR: 34.0062 - ssim: 0.5810\n",
      "Epoch 4/15\n",
      "1000/1000 [==============================] - 132s 132ms/step - loss: 0.0172 - PSNR: 34.7954 - ssim: 0.5973\n",
      "Epoch 5/15\n",
      "1000/1000 [==============================] - 132s 132ms/step - loss: 0.0169 - PSNR: 34.6089 - ssim: 0.6030\n",
      "Epoch 6/15\n",
      "1000/1000 [==============================] - 132s 132ms/step - loss: 0.0176 - PSNR: 32.9725 - ssim: 0.5785\n",
      "Epoch 7/15\n",
      "1000/1000 [==============================] - 132s 132ms/step - loss: 0.0165 - PSNR: 34.5449 - ssim: 0.6053\n",
      "Epoch 8/15\n",
      "1000/1000 [==============================] - 132s 132ms/step - loss: 0.0165 - PSNR: 35.5546 - ssim: 0.6091\n",
      "Epoch 9/15\n",
      "1000/1000 [==============================] - 132s 132ms/step - loss: 0.0172 - PSNR: 33.8634 - ssim: 0.5818\n",
      "Epoch 10/15\n",
      "1000/1000 [==============================] - 132s 132ms/step - loss: 0.0169 - PSNR: 34.9321 - ssim: 0.5960\n",
      "Epoch 11/15\n",
      "1000/1000 [==============================] - 132s 132ms/step - loss: 0.0166 - PSNR: 35.7174 - ssim: 0.6044\n",
      "Epoch 12/15\n",
      "1000/1000 [==============================] - 132s 132ms/step - loss: 0.0165 - PSNR: 35.1095 - ssim: 0.5982\n",
      "Epoch 13/15\n",
      "1000/1000 [==============================] - 132s 132ms/step - loss: 0.0164 - PSNR: 36.1338 - ssim: 0.6083\n",
      "Epoch 14/15\n",
      "1000/1000 [==============================] - 132s 132ms/step - loss: 0.0175 - PSNR: 35.0810 - ssim: 0.5698\n",
      "Epoch 15/15\n",
      "1000/1000 [==============================] - 132s 132ms/step - loss: 0.0196 - PSNR: 32.2297 - ssim: 0.6246\n"
     ]
    },
    {
     "data": {
      "text/plain": [
       "<tensorflow.python.keras.callbacks.History at 0x7f74407dc250>"
      ]
     },
     "execution_count": 20,
     "metadata": {},
     "output_type": "execute_result"
    }
   ],
   "source": [
    "model.fit(train_x,train_y, epochs=15,batch_size=2)"
   ]
  },
  {
   "cell_type": "code",
   "execution_count": 21,
   "metadata": {},
   "outputs": [],
   "source": [
    "y_pred=model.predict(test_x)"
   ]
  },
  {
   "cell_type": "code",
   "execution_count": 57,
   "metadata": {},
   "outputs": [
    {
     "data": {
      "text/plain": [
       "<matplotlib.image.AxesImage at 0x7f5ec016a5d0>"
      ]
     },
     "execution_count": 57,
     "metadata": {},
     "output_type": "execute_result"
    },
    {
     "data": {
      "image/png": "[encoded data removed]",
      "text/plain": [
       "<Figure size 432x288 with 1 Axes>"
      ]
     },
     "metadata": {
      "needs_background": "light"
     },
     "output_type": "display_data"
    }
   ],
   "source": [
    "plt.imshow(test_x[0])"
   ]
  },
  {
   "cell_type": "code",
   "execution_count": 22,
   "metadata": {},
   "outputs": [
    {
     "data": {
      "text/plain": [
       "<matplotlib.image.AxesImage at 0x7f7440338e10>"
      ]
     },
     "execution_count": 22,
     "metadata": {},
     "output_type": "execute_result"
    },
    {
     "data": {
      "image/png": "[encoded data removed]",
      "text/plain": [
       "<Figure size 432x288 with 1 Axes>"
      ]
     },
     "metadata": {
      "needs_background": "light"
     },
     "output_type": "display_data"
    }
   ],
   "source": [
    "plt.imshow(y_pred[0])"
   ]
  },
  {
   "cell_type": "code",
   "execution_count": 23,
   "metadata": {},
   "outputs": [
    {
     "data": {
      "text/plain": [
       "<matplotlib.image.AxesImage at 0x7f73ec7bfe10>"
      ]
     },
     "execution_count": 23,
     "metadata": {},
     "output_type": "execute_result"
    },
    {
     "data": {
      "image/png": "[encoded data removed]",
      "text/plain": [
       "<Figure size 432x288 with 1 Axes>"
      ]
     },
     "metadata": {
      "needs_background": "light"
     },
     "output_type": "display_data"
    }
   ],
   "source": [
    "plt.imshow(test_y[0])"
   ]
  },
  {
   "cell_type": "code",
   "execution_count": 45,
   "metadata": {},
   "outputs": [
    {
     "name": "stdout",
     "output_type": "stream",
     "text": [
      "Model: \"model_6\"\n",
      "__________________________________________________________________________________________________\n",
      "Layer (type)                    Output Shape         Param #     Connected to                     \n",
      "==================================================================================================\n",
      "input_7 (InputLayer)            [(None, 64, 256, 3)] 0                                            \n",
      "__________________________________________________________________________________________________\n",
      "conv2d_158 (Conv2D)             (None, 64, 256, 64)  1792        input_7[0][0]                    \n",
      "__________________________________________________________________________________________________\n",
      "conv2d_159 (Conv2D)             (None, 62, 254, 64)  36928       conv2d_158[0][0]                 \n",
      "__________________________________________________________________________________________________\n",
      "conv2d_160 (Conv2D)             (None, 62, 254, 64)  36928       conv2d_159[0][0]                 \n",
      "__________________________________________________________________________________________________\n",
      "conv2d_161 (Conv2D)             (None, 62, 254, 64)  36928       conv2d_160[0][0]                 \n",
      "__________________________________________________________________________________________________\n",
      "concatenate_50 (Concatenate)    (None, 62, 254, 128) 0           conv2d_159[0][0]                 \n",
      "                                                                 conv2d_161[0][0]                 \n",
      "__________________________________________________________________________________________________\n",
      "zero_padding2d_50 (ZeroPadding2 (None, 64, 256, 128) 0           concatenate_50[0][0]             \n",
      "__________________________________________________________________________________________________\n",
      "conv2d_162 (Conv2D)             (None, 64, 256, 64)  73792       zero_padding2d_50[0][0]          \n",
      "__________________________________________________________________________________________________\n",
      "concatenate_51 (Concatenate)    (None, 64, 256, 128) 0           conv2d_158[0][0]                 \n",
      "                                                                 conv2d_162[0][0]                 \n",
      "__________________________________________________________________________________________________\n",
      "zero_padding2d_51 (ZeroPadding2 (None, 66, 258, 128) 0           concatenate_51[0][0]             \n",
      "__________________________________________________________________________________________________\n",
      "up_sampling2d_30 (UpSampling2D) (None, 132, 516, 128 0           zero_padding2d_51[0][0]          \n",
      "__________________________________________________________________________________________________\n",
      "max_pooling2d_33 (MaxPooling2D) (None, 66, 258, 128) 0           up_sampling2d_30[0][0]           \n",
      "__________________________________________________________________________________________________\n",
      "conv2d_163 (Conv2D)             (None, 64, 256, 64)  73792       max_pooling2d_33[0][0]           \n",
      "__________________________________________________________________________________________________\n",
      "conv2d_164 (Conv2D)             (None, 64, 256, 64)  36928       conv2d_163[0][0]                 \n",
      "__________________________________________________________________________________________________\n",
      "conv2d_165 (Conv2D)             (None, 64, 256, 64)  36928       conv2d_164[0][0]                 \n",
      "__________________________________________________________________________________________________\n",
      "concatenate_52 (Concatenate)    (None, 64, 256, 128) 0           conv2d_163[0][0]                 \n",
      "                                                                 conv2d_165[0][0]                 \n",
      "__________________________________________________________________________________________________\n",
      "zero_padding2d_52 (ZeroPadding2 (None, 66, 258, 128) 0           concatenate_52[0][0]             \n",
      "__________________________________________________________________________________________________\n",
      "conv2d_166 (Conv2D)             (None, 66, 258, 64)  73792       zero_padding2d_52[0][0]          \n",
      "__________________________________________________________________________________________________\n",
      "concatenate_53 (Concatenate)    (None, 66, 258, 192) 0           max_pooling2d_33[0][0]           \n",
      "                                                                 conv2d_166[0][0]                 \n",
      "__________________________________________________________________________________________________\n",
      "zero_padding2d_53 (ZeroPadding2 (None, 68, 260, 192) 0           concatenate_53[0][0]             \n",
      "__________________________________________________________________________________________________\n",
      "up_sampling2d_31 (UpSampling2D) (None, 136, 520, 192 0           zero_padding2d_53[0][0]          \n",
      "__________________________________________________________________________________________________\n",
      "max_pooling2d_34 (MaxPooling2D) (None, 68, 260, 192) 0           up_sampling2d_31[0][0]           \n",
      "__________________________________________________________________________________________________\n",
      "conv2d_167 (Conv2D)             (None, 66, 258, 64)  110656      max_pooling2d_34[0][0]           \n",
      "__________________________________________________________________________________________________\n",
      "conv2d_168 (Conv2D)             (None, 66, 258, 64)  36928       conv2d_167[0][0]                 \n",
      "__________________________________________________________________________________________________\n",
      "conv2d_169 (Conv2D)             (None, 66, 258, 64)  36928       conv2d_168[0][0]                 \n",
      "__________________________________________________________________________________________________\n",
      "concatenate_54 (Concatenate)    (None, 66, 258, 128) 0           conv2d_167[0][0]                 \n",
      "                                                                 conv2d_169[0][0]                 \n",
      "__________________________________________________________________________________________________\n",
      "zero_padding2d_54 (ZeroPadding2 (None, 68, 260, 128) 0           concatenate_54[0][0]             \n",
      "__________________________________________________________________________________________________\n",
      "conv2d_170 (Conv2D)             (None, 68, 260, 64)  73792       zero_padding2d_54[0][0]          \n",
      "__________________________________________________________________________________________________\n",
      "concatenate_55 (Concatenate)    (None, 68, 260, 256) 0           max_pooling2d_34[0][0]           \n",
      "                                                                 conv2d_170[0][0]                 \n",
      "__________________________________________________________________________________________________\n",
      "zero_padding2d_55 (ZeroPadding2 (None, 70, 262, 256) 0           concatenate_55[0][0]             \n",
      "__________________________________________________________________________________________________\n",
      "up_sampling2d_32 (UpSampling2D) (None, 140, 524, 256 0           zero_padding2d_55[0][0]          \n",
      "__________________________________________________________________________________________________\n",
      "max_pooling2d_35 (MaxPooling2D) (None, 70, 262, 256) 0           up_sampling2d_32[0][0]           \n",
      "__________________________________________________________________________________________________\n",
      "conv2d_171 (Conv2D)             (None, 68, 260, 64)  147520      max_pooling2d_35[0][0]           \n",
      "__________________________________________________________________________________________________\n",
      "conv2d_172 (Conv2D)             (None, 68, 260, 64)  36928       conv2d_171[0][0]                 \n",
      "__________________________________________________________________________________________________\n",
      "conv2d_173 (Conv2D)             (None, 68, 260, 64)  36928       conv2d_172[0][0]                 \n",
      "__________________________________________________________________________________________________\n",
      "concatenate_56 (Concatenate)    (None, 68, 260, 128) 0           conv2d_171[0][0]                 \n",
      "                                                                 conv2d_173[0][0]                 \n",
      "__________________________________________________________________________________________________\n",
      "zero_padding2d_56 (ZeroPadding2 (None, 70, 262, 128) 0           concatenate_56[0][0]             \n",
      "__________________________________________________________________________________________________\n",
      "conv2d_174 (Conv2D)             (None, 70, 262, 64)  73792       zero_padding2d_56[0][0]          \n",
      "__________________________________________________________________________________________________\n",
      "concatenate_57 (Concatenate)    (None, 70, 262, 320) 0           max_pooling2d_35[0][0]           \n",
      "                                                                 conv2d_174[0][0]                 \n",
      "__________________________________________________________________________________________________\n",
      "zero_padding2d_57 (ZeroPadding2 (None, 72, 264, 320) 0           concatenate_57[0][0]             \n",
      "__________________________________________________________________________________________________\n",
      "up_sampling2d_33 (UpSampling2D) (None, 144, 528, 320 0           zero_padding2d_57[0][0]          \n",
      "__________________________________________________________________________________________________\n",
      "max_pooling2d_36 (MaxPooling2D) (None, 72, 264, 320) 0           up_sampling2d_33[0][0]           \n",
      "__________________________________________________________________________________________________\n",
      "conv2d_175 (Conv2D)             (None, 70, 262, 64)  184384      max_pooling2d_36[0][0]           \n",
      "__________________________________________________________________________________________________\n",
      "conv2d_176 (Conv2D)             (None, 70, 262, 64)  36928       conv2d_175[0][0]                 \n",
      "__________________________________________________________________________________________________\n",
      "conv2d_177 (Conv2D)             (None, 70, 262, 64)  36928       conv2d_176[0][0]                 \n",
      "__________________________________________________________________________________________________\n",
      "concatenate_58 (Concatenate)    (None, 70, 262, 128) 0           conv2d_175[0][0]                 \n",
      "                                                                 conv2d_177[0][0]                 \n",
      "__________________________________________________________________________________________________\n",
      "zero_padding2d_58 (ZeroPadding2 (None, 72, 264, 128) 0           concatenate_58[0][0]             \n",
      "__________________________________________________________________________________________________\n",
      "conv2d_178 (Conv2D)             (None, 72, 264, 64)  73792       zero_padding2d_58[0][0]          \n",
      "__________________________________________________________________________________________________\n",
      "concatenate_59 (Concatenate)    (None, 72, 264, 384) 0           max_pooling2d_36[0][0]           \n",
      "                                                                 conv2d_178[0][0]                 \n",
      "__________________________________________________________________________________________________\n",
      "zero_padding2d_59 (ZeroPadding2 (None, 74, 266, 384) 0           concatenate_59[0][0]             \n",
      "__________________________________________________________________________________________________\n",
      "up_sampling2d_34 (UpSampling2D) (None, 148, 532, 384 0           zero_padding2d_59[0][0]          \n",
      "__________________________________________________________________________________________________\n",
      "max_pooling2d_37 (MaxPooling2D) (None, 74, 266, 384) 0           up_sampling2d_34[0][0]           \n",
      "__________________________________________________________________________________________________\n",
      "conv2d_179 (Conv2D)             (None, 72, 264, 64)  221248      max_pooling2d_37[0][0]           \n",
      "__________________________________________________________________________________________________\n",
      "conv2d_180 (Conv2D)             (None, 72, 264, 64)  36928       conv2d_179[0][0]                 \n",
      "__________________________________________________________________________________________________\n",
      "conv2d_181 (Conv2D)             (None, 72, 264, 64)  36928       conv2d_180[0][0]                 \n",
      "__________________________________________________________________________________________________\n",
      "concatenate_60 (Concatenate)    (None, 72, 264, 128) 0           conv2d_179[0][0]                 \n",
      "                                                                 conv2d_181[0][0]                 \n",
      "__________________________________________________________________________________________________\n",
      "zero_padding2d_60 (ZeroPadding2 (None, 74, 266, 128) 0           concatenate_60[0][0]             \n",
      "__________________________________________________________________________________________________\n",
      "conv2d_182 (Conv2D)             (None, 74, 266, 64)  73792       zero_padding2d_60[0][0]          \n",
      "__________________________________________________________________________________________________\n",
      "concatenate_61 (Concatenate)    (None, 74, 266, 448) 0           max_pooling2d_37[0][0]           \n",
      "                                                                 conv2d_182[0][0]                 \n",
      "__________________________________________________________________________________________________\n",
      "zero_padding2d_61 (ZeroPadding2 (None, 76, 268, 448) 0           concatenate_61[0][0]             \n",
      "__________________________________________________________________________________________________\n",
      "up_sampling2d_35 (UpSampling2D) (None, 152, 536, 448 0           zero_padding2d_61[0][0]          \n",
      "__________________________________________________________________________________________________\n",
      "max_pooling2d_38 (MaxPooling2D) (None, 76, 268, 448) 0           up_sampling2d_35[0][0]           \n",
      "__________________________________________________________________________________________________\n",
      "conv2d_183 (Conv2D)             (None, 74, 266, 64)  258112      max_pooling2d_38[0][0]           \n",
      "__________________________________________________________________________________________________\n",
      "conv2d_184 (Conv2D)             (None, 74, 266, 64)  36928       conv2d_183[0][0]                 \n",
      "__________________________________________________________________________________________________\n",
      "conv2d_185 (Conv2D)             (None, 74, 266, 64)  36928       conv2d_184[0][0]                 \n",
      "__________________________________________________________________________________________________\n",
      "concatenate_62 (Concatenate)    (None, 74, 266, 128) 0           conv2d_183[0][0]                 \n",
      "                                                                 conv2d_185[0][0]                 \n",
      "__________________________________________________________________________________________________\n",
      "zero_padding2d_62 (ZeroPadding2 (None, 76, 268, 128) 0           concatenate_62[0][0]             \n",
      "__________________________________________________________________________________________________\n",
      "conv2d_186 (Conv2D)             (None, 76, 268, 64)  73792       zero_padding2d_62[0][0]          \n",
      "__________________________________________________________________________________________________\n",
      "concatenate_63 (Concatenate)    (None, 76, 268, 512) 0           max_pooling2d_38[0][0]           \n",
      "                                                                 conv2d_186[0][0]                 \n",
      "__________________________________________________________________________________________________\n",
      "zero_padding2d_63 (ZeroPadding2 (None, 78, 270, 512) 0           concatenate_63[0][0]             \n",
      "__________________________________________________________________________________________________\n",
      "conv2d_187 (Conv2D)             (None, 76, 268, 3)   13827       zero_padding2d_63[0][0]          \n",
      "__________________________________________________________________________________________________\n",
      "conv2d_188 (Conv2D)             (None, 74, 266, 3)   84          conv2d_187[0][0]                 \n",
      "__________________________________________________________________________________________________\n",
      "conv2d_189 (Conv2D)             (None, 72, 264, 3)   84          conv2d_188[0][0]                 \n",
      "__________________________________________________________________________________________________\n",
      "conv2d_190 (Conv2D)             (None, 70, 262, 3)   84          conv2d_189[0][0]                 \n",
      "__________________________________________________________________________________________________\n",
      "conv2d_191 (Conv2D)             (None, 68, 260, 3)   84          conv2d_190[0][0]                 \n",
      "__________________________________________________________________________________________________\n",
      "conv2d_192 (Conv2D)             (None, 66, 258, 3)   84          conv2d_191[0][0]                 \n",
      "__________________________________________________________________________________________________\n",
      "conv2d_193 (Conv2D)             (None, 64, 256, 3)   84          conv2d_192[0][0]                 \n",
      "__________________________________________________________________________________________________\n",
      "max_pooling2d_39 (MaxPooling2D) (None, 32, 256, 3)   0           conv2d_193[0][0]                 \n",
      "==================================================================================================\n",
      "Total params: 2,082,299\n",
      "Trainable params: 2,082,299\n",
      "Non-trainable params: 0\n",
      "__________________________________________________________________________________________________\n"
     ]
    }
   ],
   "source": [
    "inp=Input(shape=(64,256,3))\n",
    "l1=Conv2D(64,(3,3),activation='relu',padding='same')(inp)\n",
    "l2=res(l1)\n",
    "l2=UpSampling2D()(l2)\n",
    "l2=MaxPooling2D()(l2)\n",
    "l3=res(l2)\n",
    "l3=UpSampling2D()(l3)\n",
    "l3=MaxPooling2D()(l3)\n",
    "l8=res(l3)\n",
    "l8=UpSampling2D()(l8)\n",
    "l8=MaxPooling2D()(l8)\n",
    "l9=res(l8)\n",
    "l9=UpSampling2D()(l9)\n",
    "l9=MaxPooling2D()(l9)\n",
    "l10=res(l9)\n",
    "l10=UpSampling2D()(l10)\n",
    "l10=MaxPooling2D()(l10)\n",
    "l11=res(l10)\n",
    "l11=UpSampling2D()(l11)\n",
    "l11=MaxPooling2D()(l11)\n",
    "l12=res(l11)\n",
    "out=Conv2D(3,(3,3),activation='relu')(l12)\n",
    "out=Conv2D(3,(3,3),activation='relu')(out)\n",
    "out=Conv2D(3,(3,3),activation='relu')(out)\n",
    "out=Conv2D(3,(3,3),activation='relu')(out)\n",
    "out=Conv2D(3,(3,3),activation='relu')(out)\n",
    "out=Conv2D(3,(3,3),activation='relu')(out)\n",
    "out=Conv2D(3,(3,3),activation='relu')(out)\n",
    "out=MaxPooling2D(pool_size=(2,1))(out)\n",
    "model2=Model(inputs=[inp],outputs=out)\n",
    "model2.summary()"
   ]
  },
  {
   "cell_type": "code",
   "execution_count": 46,
   "metadata": {},
   "outputs": [],
   "source": [
    "model2.compile(optimizer='adam', loss='mean_squared_error', metrics=[PSNR,ssim])"
   ]
  },
  {
   "cell_type": "code",
   "execution_count": 47,
   "metadata": {},
   "outputs": [
    {
     "name": "stdout",
     "output_type": "stream",
     "text": [
      "Epoch 1/6\n",
      "1000/1000 [==============================] - 110s 107ms/step - loss: 0.1935 - PSNR: inf - ssim: 0.3826\n",
      "Epoch 2/6\n",
      "1000/1000 [==============================] - 107s 107ms/step - loss: 0.0182 - PSNR: 29.6252 - ssim: 0.5333\n",
      "Epoch 3/6\n",
      "1000/1000 [==============================] - 107s 107ms/step - loss: 0.0183 - PSNR: 30.2189 - ssim: 0.5348\n",
      "Epoch 4/6\n",
      "1000/1000 [==============================] - 107s 107ms/step - loss: 0.0177 - PSNR: 31.4271 - ssim: 0.5503\n",
      "Epoch 5/6\n",
      "1000/1000 [==============================] - 107s 107ms/step - loss: 0.0178 - PSNR: 31.0376 - ssim: 0.5308\n",
      "Epoch 6/6\n",
      "1000/1000 [==============================] - 107s 107ms/step - loss: 0.0168 - PSNR: 32.8188 - ssim: 0.5874\n"
     ]
    }
   ],
   "source": [
    "hist=model2.fit(train_x, train_y, epochs=6,batch_size=2)"
   ]
  },
  {
   "cell_type": "code",
   "execution_count": 52,
   "metadata": {},
   "outputs": [
    {
     "name": "stdout",
     "output_type": "stream",
     "text": [
      "7/7 [==============================] - 4s 490ms/step - loss: 0.0161 - PSNR: 32.3630 - ssim: 0.6047\n"
     ]
    },
    {
     "data": {
      "text/plain": [
       "[0.016115743666887283, 32.362979888916016, 0.6046648621559143]"
      ]
     },
     "execution_count": 52,
     "metadata": {},
     "output_type": "execute_result"
    }
   ],
   "source": [
    "model2.evaluate(test_x,test_y)"
   ]
  },
  {
   "cell_type": "code",
   "execution_count": 78,
   "metadata": {},
   "outputs": [],
   "source": [
    "from tensorflow.keras.layers import Input, Dense, Conv2D, MaxPooling2D, Dropout, Conv2DTranspose, UpSampling2D, add\n",
    "from tensorflow.keras.models import Model\n",
    "from tensorflow.keras import regularizers\n",
    "import tensorflow as tf\n",
    "\n",
    "def build_model():\n",
    "    input_img = Input(shape=(64, 256, 3))\n",
    "    l1 = Conv2D(64, (3, 3), padding='same', activation='relu', \n",
    "                activity_regularizer=regularizers.l1(10e-10))(input_img)\n",
    "    l2 = Conv2D(64, (3, 3), padding='same', activation='relu', \n",
    "                activity_regularizer=regularizers.l1(10e-10))(l1)\n",
    "\n",
    "    l3 = MaxPooling2D(padding='same')(l2)\n",
    "    l3 = Dropout(0.3)(l3)\n",
    "    l4 = Conv2D(128, (3, 3),  padding='same', activation='relu', \n",
    "                activity_regularizer=regularizers.l1(10e-10))(l3)\n",
    "    l5 = Conv2D(128, (3, 3), padding='same', activation='relu', \n",
    "                activity_regularizer=regularizers.l1(10e-10))(l4)\n",
    "\n",
    "    l6 = MaxPooling2D(padding='same')(l5)\n",
    "    l7 = Conv2D(256, (3, 3), padding='same', activation='relu', \n",
    "                activity_regularizer=regularizers.l1(10e-10))(l6)\n",
    "    \n",
    "    l8 = UpSampling2D()(l7)\n",
    "\n",
    "    l9 = Conv2D(128, (3, 3), padding='same', activation='relu',\n",
    "                activity_regularizer=regularizers.l1(10e-10))(l8)\n",
    "    l10 = Conv2D(128, (3, 3), padding='same', activation='relu',\n",
    "                 activity_regularizer=regularizers.l1(10e-10))(l9)\n",
    "\n",
    "    l11 = add([l5, l10])\n",
    "    l12 = UpSampling2D()(l11)\n",
    "    l13 = Conv2D(64, (3, 3), padding='same', activation='relu',\n",
    "                 activity_regularizer=regularizers.l1(10e-10))(l12)\n",
    "    l14 = Conv2D(64, (3, 3), padding='same', activation='relu',\n",
    "                 activity_regularizer=regularizers.l1(10e-10))(l13)\n",
    "\n",
    "    l15 = add([l14, l2])\n",
    "    \n",
    "\n",
    "    decoded = Conv2D(3, (3, 3), padding='same', activation='relu', \n",
    "                     activity_regularizer=regularizers.l1(10e-10))(l15)\n",
    "    out=MaxPooling2D(pool_size=(2,1))(decoded)\n",
    "\n",
    "\n",
    "    model = Model(input_img, out)\n",
    "    model.compile(optimizer='adam', loss='mean_squared_error',metrics=[PSNR,ssim])\n",
    "    model.compile(optimizer='adam', loss='mean_squared_error',metrics=[PSNR,ssim])\n",
    "    \n",
    "    return model\n"
   ]
  },
  {
   "cell_type": "code",
   "execution_count": 54,
   "metadata": {},
   "outputs": [],
   "source": [
    "auto=build_model()"
   ]
  },
  {
   "cell_type": "code",
   "execution_count": null,
   "metadata": {},
   "outputs": [
    {
     "name": "stdout",
     "output_type": "stream",
     "text": [
      "Epoch 1/50\n",
      "250/250 [==============================] - 10s 39ms/step - loss: 0.0068\n",
      "Epoch 2/50\n",
      "250/250 [==============================] - 10s 39ms/step - loss: 0.0067\n",
      "Epoch 3/50\n",
      "250/250 [==============================] - 10s 40ms/step - loss: 0.0067\n",
      "Epoch 4/50\n",
      "250/250 [==============================] - 10s 40ms/step - loss: 0.0068\n",
      "Epoch 5/50\n",
      "250/250 [==============================] - 10s 39ms/step - loss: 0.0068\n",
      "Epoch 6/50\n",
      "250/250 [==============================] - 10s 39ms/step - loss: 0.0067\n",
      "Epoch 7/50\n",
      "250/250 [==============================] - 10s 40ms/step - loss: 0.0068\n",
      "Epoch 8/50\n",
      "250/250 [==============================] - 10s 39ms/step - loss: 0.0067\n",
      "Epoch 9/50\n",
      " 61/250 [======>.......................] - ETA: 7s - loss: 0.0068"
     ]
    }
   ],
   "source": [
    "auto.fit(train_x, train_y, epochs = 50, batch_size = 8, shuffle = True)"
   ]
  },
  {
   "cell_type": "code",
   "execution_count": 73,
   "metadata": {},
   "outputs": [],
   "source": [
    "y_pd=auto.predict(test_x)"
   ]
  },
  {
   "cell_type": "code",
   "execution_count": 75,
   "metadata": {},
   "outputs": [
    {
     "data": {
      "text/plain": [
       "<matplotlib.image.AxesImage at 0x7f7008e275d0>"
      ]
     },
     "execution_count": 75,
     "metadata": {},
     "output_type": "execute_result"
    },
    {
     "data": {
      "image/png": "[encoded data removed]",
      "text/plain": [
       "<Figure size 432x288 with 1 Axes>"
      ]
     },
     "metadata": {
      "needs_background": "light"
     },
     "output_type": "display_data"
    }
   ],
   "source": [
    "plt.imshow(y_pd[0])\n"
   ]
  },
  {
   "cell_type": "code",
   "execution_count": 79,
   "metadata": {},
   "outputs": [],
   "source": [
    "auto2=build_model()"
   ]
  },
  {
   "cell_type": "code",
   "execution_count": 86,
   "metadata": {},
   "outputs": [
    {
     "name": "stdout",
     "output_type": "stream",
     "text": [
      "Epoch 1/50\n",
      "250/250 [==============================] - 10s 40ms/step - loss: 0.0105 - PSNR: inf - ssim: 0.7311\n",
      "Epoch 2/50\n",
      "250/250 [==============================] - 10s 40ms/step - loss: 0.0105 - PSNR: inf - ssim: 0.7315\n",
      "Epoch 3/50\n",
      "250/250 [==============================] - 10s 40ms/step - loss: 0.0104 - PSNR: inf - ssim: 0.7325\n",
      "Epoch 4/50\n",
      "250/250 [==============================] - 10s 40ms/step - loss: 0.0104 - PSNR: inf - ssim: 0.7334\n",
      "Epoch 5/50\n",
      "250/250 [==============================] - 10s 40ms/step - loss: 0.0103 - PSNR: inf - ssim: 0.7347\n",
      "Epoch 6/50\n",
      "250/250 [==============================] - 10s 40ms/step - loss: 0.0103 - PSNR: inf - ssim: 0.7359\n",
      "Epoch 7/50\n",
      "250/250 [==============================] - 10s 40ms/step - loss: 0.0102 - PSNR: inf - ssim: 0.7364\n",
      "Epoch 8/50\n",
      "250/250 [==============================] - 10s 40ms/step - loss: 0.0102 - PSNR: inf - ssim: 0.7374\n",
      "Epoch 9/50\n",
      "250/250 [==============================] - 10s 40ms/step - loss: 0.0101 - PSNR: inf - ssim: 0.7395\n",
      "Epoch 10/50\n",
      "250/250 [==============================] - 10s 40ms/step - loss: 0.0101 - PSNR: inf - ssim: 0.7396\n",
      "Epoch 11/50\n",
      "250/250 [==============================] - 10s 40ms/step - loss: 0.0101 - PSNR: inf - ssim: 0.7395\n",
      "Epoch 12/50\n",
      "250/250 [==============================] - 10s 40ms/step - loss: 0.0100 - PSNR: inf - ssim: 0.7415\n",
      "Epoch 13/50\n",
      "250/250 [==============================] - 10s 40ms/step - loss: 0.0100 - PSNR: inf - ssim: 0.7424\n",
      "Epoch 14/50\n",
      "250/250 [==============================] - 10s 40ms/step - loss: 0.0100 - PSNR: inf - ssim: 0.7439\n",
      "Epoch 15/50\n",
      "250/250 [==============================] - 10s 40ms/step - loss: 0.0099 - PSNR: inf - ssim: 0.7435\n",
      "Epoch 16/50\n",
      "250/250 [==============================] - 10s 40ms/step - loss: 0.0099 - PSNR: inf - ssim: 0.7458\n",
      "Epoch 17/50\n",
      "250/250 [==============================] - 10s 40ms/step - loss: 0.0098 - PSNR: inf - ssim: 0.7461\n",
      "Epoch 18/50\n",
      "250/250 [==============================] - 10s 40ms/step - loss: 0.0098 - PSNR: inf - ssim: 0.7474\n",
      "Epoch 19/50\n",
      "250/250 [==============================] - 10s 40ms/step - loss: 0.0097 - PSNR: inf - ssim: 0.7489\n",
      "Epoch 20/50\n",
      "250/250 [==============================] - 10s 40ms/step - loss: 0.0097 - PSNR: inf - ssim: 0.7488\n",
      "Epoch 21/50\n",
      "250/250 [==============================] - 10s 40ms/step - loss: 0.0097 - PSNR: inf - ssim: 0.7487\n",
      "Epoch 22/50\n",
      "250/250 [==============================] - 10s 40ms/step - loss: 0.0097 - PSNR: inf - ssim: 0.7503\n",
      "Epoch 23/50\n",
      "250/250 [==============================] - 10s 40ms/step - loss: 0.0096 - PSNR: inf - ssim: 0.7509\n",
      "Epoch 24/50\n",
      "250/250 [==============================] - 10s 40ms/step - loss: 0.0096 - PSNR: inf - ssim: 0.7520\n",
      "Epoch 25/50\n",
      "250/250 [==============================] - 10s 40ms/step - loss: 0.0096 - PSNR: inf - ssim: 0.7519\n",
      "Epoch 26/50\n",
      "250/250 [==============================] - 10s 40ms/step - loss: 0.0095 - PSNR: inf - ssim: 0.7538\n",
      "Epoch 27/50\n",
      "250/250 [==============================] - 10s 40ms/step - loss: 0.0095 - PSNR: inf - ssim: 0.7535\n",
      "Epoch 28/50\n",
      "250/250 [==============================] - 10s 40ms/step - loss: 0.0094 - PSNR: inf - ssim: 0.7567\n",
      "Epoch 29/50\n",
      "250/250 [==============================] - 10s 40ms/step - loss: 0.0094 - PSNR: inf - ssim: 0.7565\n",
      "Epoch 30/50\n",
      "250/250 [==============================] - 10s 40ms/step - loss: 0.0094 - PSNR: inf - ssim: 0.7554\n",
      "Epoch 31/50\n",
      "250/250 [==============================] - 10s 40ms/step - loss: 0.0093 - PSNR: inf - ssim: 0.7578\n",
      "Epoch 32/50\n",
      "250/250 [==============================] - 10s 40ms/step - loss: 0.0093 - PSNR: inf - ssim: 0.7591\n",
      "Epoch 33/50\n",
      "250/250 [==============================] - 10s 40ms/step - loss: 0.0093 - PSNR: inf - ssim: 0.7592\n",
      "Epoch 34/50\n",
      "250/250 [==============================] - 10s 40ms/step - loss: 0.0092 - PSNR: inf - ssim: 0.7583\n",
      "Epoch 35/50\n",
      "250/250 [==============================] - 10s 40ms/step - loss: 0.0092 - PSNR: inf - ssim: 0.7601\n",
      "Epoch 36/50\n",
      "250/250 [==============================] - 10s 40ms/step - loss: 0.0092 - PSNR: inf - ssim: 0.7606\n",
      "Epoch 37/50\n",
      "250/250 [==============================] - 10s 39ms/step - loss: 0.0091 - PSNR: inf - ssim: 0.7619\n",
      "Epoch 38/50\n",
      "250/250 [==============================] - 10s 40ms/step - loss: 0.0091 - PSNR: inf - ssim: 0.7632\n",
      "Epoch 39/50\n",
      "250/250 [==============================] - 10s 41ms/step - loss: 0.0091 - PSNR: inf - ssim: 0.7621\n",
      "Epoch 40/50\n",
      "250/250 [==============================] - 10s 40ms/step - loss: 0.0091 - PSNR: inf - ssim: 0.7621\n",
      "Epoch 41/50\n",
      "250/250 [==============================] - 10s 41ms/step - loss: 0.0091 - PSNR: inf - ssim: 0.7644\n",
      "Epoch 42/50\n",
      "250/250 [==============================] - 10s 41ms/step - loss: 0.0090 - PSNR: inf - ssim: 0.7642\n",
      "Epoch 43/50\n",
      "250/250 [==============================] - 10s 41ms/step - loss: 0.0090 - PSNR: inf - ssim: 0.7653\n",
      "Epoch 44/50\n",
      "250/250 [==============================] - 10s 41ms/step - loss: 0.0090 - PSNR: inf - ssim: 0.7645\n",
      "Epoch 45/50\n",
      "250/250 [==============================] - 10s 41ms/step - loss: 0.0089 - PSNR: inf - ssim: 0.7673\n",
      "Epoch 46/50\n",
      "250/250 [==============================] - 10s 40ms/step - loss: 0.0090 - PSNR: inf - ssim: 0.7654\n",
      "Epoch 47/50\n",
      "250/250 [==============================] - 10s 41ms/step - loss: 0.0089 - PSNR: inf - ssim: 0.7666\n",
      "Epoch 48/50\n",
      "250/250 [==============================] - 10s 41ms/step - loss: 0.0089 - PSNR: inf - ssim: 0.7677\n",
      "Epoch 49/50\n",
      "250/250 [==============================] - 10s 40ms/step - loss: 0.0088 - PSNR: inf - ssim: 0.7683\n",
      "Epoch 50/50\n",
      "250/250 [==============================] - 10s 41ms/step - loss: 0.0088 - PSNR: inf - ssim: 0.7701\n"
     ]
    }
   ],
   "source": [
    "hist=auto2.fit(train_x, train_y, epochs = 10, batch_size = 8, shuffle = True)"
   ]
  },
  {
   "cell_type": "code",
   "execution_count": 87,
   "metadata": {},
   "outputs": [],
   "source": [
    "y_pd=auto2.predict(test_x)"
   ]
  },
  {
   "cell_type": "code",
   "execution_count": 88,
   "metadata": {},
   "outputs": [
    {
     "data": {
      "text/plain": [
       "<matplotlib.image.AxesImage at 0x7f7008192310>"
      ]
     },
     "execution_count": 88,
     "metadata": {},
     "output_type": "execute_result"
    },
    {
     "data": {
      "image/png": "[encoded data removed]",
      "text/plain": [
       "<Figure size 432x288 with 1 Axes>"
      ]
     },
     "metadata": {
      "needs_background": "light"
     },
     "output_type": "display_data"
    }
   ],
   "source": [
    "plt.imshow(y_pd[0])"
   ]
  },
  {
   "cell_type": "code",
   "execution_count": null,
   "metadata": {},
   "outputs": [],
   "source": []
  }
 ],
 "metadata": {
  "kernelspec": {
   "display_name": "Python 3",
   "language": "python",
   "name": "python3"
  },
  "language_info": {
   "codemirror_mode": {
    "name": "ipython",
    "version": 3
   },
   "file_extension": ".py",
   "mimetype": "text/x-python",
   "name": "python",
   "nbconvert_exporter": "python",
   "pygments_lexer": "ipython3",
   "version": "3.7.4"
  }
 },
 "nbformat": 4,
 "nbformat_minor": 4
}
